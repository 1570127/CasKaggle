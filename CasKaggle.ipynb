{
 "cells": [
  {
   "cell_type": "markdown",
   "id": "30f01152",
   "metadata": {},
   "source": [
    "# Cas Kaggle Fake and Real news"
   ]
  },
  {
   "cell_type": "markdown",
   "id": "b4a54e94",
   "metadata": {},
   "source": [
    "##### Nom: Maria Graupera Rodón\n",
    "\n",
    "#### Niu: 1570127"
   ]
  },
  {
   "cell_type": "markdown",
   "id": "0a9ea95a",
   "metadata": {},
   "source": [
    "# Imports"
   ]
  },
  {
   "cell_type": "code",
   "execution_count": 1,
   "id": "630dc198",
   "metadata": {},
   "outputs": [
    {
     "name": "stderr",
     "output_type": "stream",
     "text": [
      "/home/maria/anaconda3/lib/python3.9/site-packages/numexpr/expressions.py:21: DeprecationWarning: distutils Version classes are deprecated. Use packaging.version instead.\n",
      "  _np_version_forbids_neg_powint = LooseVersion(numpy.__version__) >= LooseVersion('1.12.0b1')\n",
      "/home/maria/anaconda3/lib/python3.9/site-packages/numexpr/expressions.py:21: DeprecationWarning: distutils Version classes are deprecated. Use packaging.version instead.\n",
      "  _np_version_forbids_neg_powint = LooseVersion(numpy.__version__) >= LooseVersion('1.12.0b1')\n"
     ]
    }
   ],
   "source": [
    "#per treure warnings\n",
    "from warnings import simplefilter \n",
    "import warnings\n",
    "warnings.simplefilter(action='ignore', category=FutureWarning)\n",
    "warnings.simplefilter(action='ignore', category=DeprecationWarning)\n",
    "warnings.simplefilter(action='ignore', category=DeprecationWarning)\n",
    "warnings.filterwarnings('always', category = DeprecationWarning)\n",
    "\n",
    "# data analysis and wrangling\n",
    "import pandas as pd\n",
    "import numpy as np\n",
    "warnings.filterwarnings('ignore')\n",
    "np.seterr(all=\"ignore\")\n",
    "import random as rnd\n",
    "import time\n",
    "import spacy\n",
    "\n",
    "from sklearn.decomposition import PCA\n",
    "from sklearn.preprocessing import MinMaxScaler\n",
    "from sklearn.metrics import r2_score, mean_squared_error, mean_absolute_error\n",
    "# visualization\n",
    "import seaborn as sns\n",
    "import matplotlib.pyplot as plt\n",
    "%matplotlib inline\n",
    "\n",
    "# machine learning\n",
    "from sklearn import svm, datasets, metrics\n",
    "from sklearn.linear_model import LogisticRegression\n",
    "from sklearn.svm import SVC, LinearSVC\n",
    "from sklearn.ensemble import RandomForestClassifier\n",
    "from sklearn.neighbors import KNeighborsClassifier\n",
    "from sklearn.naive_bayes import GaussianNB\n",
    "from sklearn.linear_model import Perceptron\n",
    "from sklearn.linear_model import SGDClassifier\n",
    "from sklearn.tree import DecisionTreeClassifier\n",
    "from sklearn.model_selection import train_test_split\n",
    "from sklearn.feature_selection import SelectFromModel\n",
    "from sklearn.metrics import f1_score, precision_recall_curve, average_precision_score, roc_curve, auc\n",
    "from sklearn.metrics import confusion_matrix\n",
    "from sklearn.model_selection import cross_val_score\n",
    "from sklearn.pipeline import make_pipeline\n",
    "from sklearn.preprocessing import StandardScaler\n",
    "from sklearn.linear_model import LinearRegression\n",
    "from sklearn.metrics import classification_report\n",
    "from sklearn.model_selection import RepeatedStratifiedKFold\n",
    "from scipy.stats import loguniform\n",
    "from sklearn.model_selection import RandomizedSearchCV\n",
    "from sklearn.model_selection import GridSearchCV\n",
    "from sklearn.metrics import classification_report\n",
    "from sklearn.metrics import roc_auc_score\n",
    "from scipy import stats"
   ]
  },
  {
   "cell_type": "markdown",
   "id": "cb20873d",
   "metadata": {},
   "source": [
    "# Funció"
   ]
  },
  {
   "cell_type": "code",
   "execution_count": 2,
   "id": "383802dc",
   "metadata": {},
   "outputs": [],
   "source": [
    "def apply_models(particions,X,y,ret=False):\n",
    "\n",
    "    for part in particions:\n",
    "        x_t, x_v, y_t, y_v = train_test_split(X, y, train_size=part)\n",
    "\n",
    "        #Creem el regresor logístic\n",
    "        logireg = LogisticRegression(C=2.0, fit_intercept=True, penalty='l2', tol=0.001)\n",
    "        # l'entrenem\n",
    "        logireg.fit(x_t, y_t)\n",
    "        problr = logireg.predict_proba(x_v)\n",
    "        print (\"Correct classification Logistic        \", part, \"% of the data: \", logireg.score(x_v, y_v))\n",
    "\n",
    "        \n",
    "        #Creem el svm\n",
    "        svc = svm.SVC(C=10.0, kernel='rbf', gamma=0.9, probability=True)\n",
    "        # l'entrenem \n",
    "        svc.fit(x_t, y_t)\n",
    "        probsvc = svc.predict_proba(x_v)\n",
    "        print (\"Correct classification SVM             \", part, \"% of the data: \", svc.score(x_v, y_v))\n",
    "\n",
    "        \n",
    "        #Creem el svm lineal\n",
    "        svcl = svm.SVC(C=10.0, kernel='linear', gamma=0.9, probability=True)\n",
    "        # l'entrenem \n",
    "        svcl.fit(x_t, y_t)\n",
    "        probsvcl = svcl.predict_proba(x_v)\n",
    "        print (\"Correct classification SVML            \", part, \"% of the data: \", svcl.score(x_v, y_v))\n",
    "\n",
    "        \n",
    "        #Creem el svm poly deg=3\n",
    "        svcp = svm.SVC(C=10.0, kernel='poly', gamma=0.9, probability=True)\n",
    "        # l'entrenem \n",
    "        svcp.fit(x_t, y_t)\n",
    "        probsvcp = svcp.predict_proba(x_v)\n",
    "        print (\"Correct classification SVMP deg3       \", part, \"% of the data: \", svcp.score(x_v, y_v))\n",
    "\n",
    "        \n",
    "        #Creem el svm poly deg=2\n",
    "        svcp2 = svm.SVC(C=10.0, kernel='poly', degree=2, gamma=0.9, probability=True)\n",
    "        # l'entrenem \n",
    "        svcp2.fit(x_t, y_t)\n",
    "        probsvcp2 = svcp2.predict_proba(x_v)\n",
    "        print (\"Correct classification SVMP deg2       \", part, \"% of the data: \", svcp2.score(x_v, y_v))\n",
    "\n",
    "\n",
    "        #Creem el svm sigmoid\n",
    "        svcs= svm.SVC(C=10.0, kernel='sigmoid', gamma=0.9, probability=True)\n",
    "        # l'entrenem \n",
    "        svcs.fit(x_t, y_t)\n",
    "        probsvcs = svcs.predict_proba(x_v)\n",
    "        print (\"Correct classification SVMS            \", part, \"% of the data: \", svcs.score(x_v, y_v))\n",
    "\n",
    "\n",
    "        #Creem random forests gini\n",
    "        clf = RandomForestClassifier(max_depth=2, random_state=0)\n",
    "        # l'entrenem \n",
    "        clf.fit(x_t, y_t)\n",
    "        probclf = clf.predict_proba(x_v)\n",
    "        print (\"Correct classification RFC             \", part, \"% of the data: \", clf.score(x_v, y_v))\n",
    "\n",
    "        \n",
    "        #Creem random forests entropy with n_e=1000 and md=5\n",
    "        clfe = RandomForestClassifier(n_estimators=1000, max_depth=5, random_state=0,criterion=\"entropy\")\n",
    "        # l'entrenem \n",
    "        clfe.fit(x_t, y_t)\n",
    "        probclfe = clfe.predict_proba(x_v)\n",
    "        print (\"Correct classification RFC etpy        \", part, \"% of the data: \", clfe.score(x_v, y_v))\n",
    "\n",
    "\n",
    "        #Creem KNN ball_tree\n",
    "        KNNbt = KNeighborsClassifier(n_neighbors=3,algorithm=\"ball_tree\")\n",
    "        # l'entrenem \n",
    "        KNNbt.fit(x_t, y_t)\n",
    "        probKNNbt = KNNbt.predict_proba(x_v)\n",
    "        print (\"Correct classification KNN BT          \", part, \"% of the data: \", KNNbt.score(x_v, y_v))\n",
    "\n",
    "        \n",
    "        #Creem KNN kd_tree\n",
    "        KNNkd = KNeighborsClassifier(n_neighbors=3,algorithm=\"kd_tree\")\n",
    "        # l'entrenem \n",
    "        KNNkd.fit(x_t, y_t)\n",
    "        probKNNkd = KNNkd.predict_proba(x_v)\n",
    "        print (\"Correct classification KNN KD          \", part, \"% of the data: \", KNNkd.score(x_v, y_v))\n",
    "\n",
    "        \n",
    "        #Creem KNN brute\n",
    "        KNNbrt = KNeighborsClassifier(n_neighbors=3,algorithm=\"brute\")\n",
    "        # l'entrenem \n",
    "        KNNbrt.fit(x_t, y_t)\n",
    "        probKNNbrt = KNNbrt.predict_proba(x_v)\n",
    "        print (\"Correct classification KNN BRT         \", part, \"% of the data: \", KNNbrt.score(x_v, y_v))\n",
    "\n",
    "\n",
    "        #Creem KNN ball_tree weights = distance\n",
    "        KNNbtwd = KNeighborsClassifier(n_neighbors=3,algorithm=\"ball_tree\",weights=\"distance\")\n",
    "        # l'entrenem \n",
    "        KNNbtwd.fit(x_t, y_t)\n",
    "        probKNNbtwd = KNNbtwd.predict_proba(x_v)\n",
    "        print (\"Correct classification KNN BT wd=d     \", part, \"% of the data: \", KNNbtwd.score(x_v, y_v))\n",
    "\n",
    "        \n",
    "        #Creem KNN kd_tree weights = distance\n",
    "        KNNkdwd = KNeighborsClassifier(n_neighbors=3,algorithm=\"kd_tree\",weights=\"distance\")\n",
    "        # l'entrenem \n",
    "        KNNkdwd.fit(x_t, y_t)\n",
    "        probKNNkdwd = KNNkdwd.predict_proba(x_v)\n",
    "        print (\"Correct classification KNN KD wd=d     \", part, \"% of the data: \", KNNkdwd.score(x_v, y_v))\n",
    "\n",
    "        \n",
    "        #Creem KNN brute weights = distance\n",
    "        KNNbrtwd = KNeighborsClassifier(n_neighbors=3,algorithm=\"brute\",weights=\"distance\")\n",
    "        # l'entrenem \n",
    "        KNNbrtwd.fit(x_t, y_t)\n",
    "        probKNNbrtwd = KNNbrtwd.predict_proba(x_v)\n",
    "        print (\"Correct classification KNN BRT wd=d    \", part, \"% of the data: \", KNNbrtwd.score(x_v, y_v))    \n",
    "\n",
    "        print(\"\\n\")\n",
    "    if ret:\n",
    "        return [problr,probsvc,probsvcl,probsvcp,probsvcp2,probsvcs,probclf,probclfe,probKNNbt,probKNNkd,probKNNbrt,probKNNbtwd,probKNNkdwd,probKNNbrtwd],x_t, x_v, y_t, y_v"
   ]
  },
  {
   "cell_type": "markdown",
   "id": "0ef519a3",
   "metadata": {},
   "source": [
    "# Exploració de les dades"
   ]
  },
  {
   "cell_type": "code",
   "execution_count": 3,
   "id": "e2feafa0",
   "metadata": {},
   "outputs": [],
   "source": [
    "fake = pd.read_csv('Fake.csv')\n",
    "true = pd.read_csv('True.csv')"
   ]
  },
  {
   "cell_type": "markdown",
   "id": "585bec9f",
   "metadata": {},
   "source": [
    "Afegim un quart atribut label el qual ens permetrà saber si la noticia és falsa o no ho és"
   ]
  },
  {
   "cell_type": "code",
   "execution_count": 4,
   "id": "d4dd25df",
   "metadata": {},
   "outputs": [],
   "source": [
    "fake['label']=\"Fake\"\n",
    "true['label']=\"True\""
   ]
  },
  {
   "cell_type": "markdown",
   "id": "9dff67d9",
   "metadata": {},
   "source": [
    "Mostrem el atributs que té les nostres bases de dades"
   ]
  },
  {
   "cell_type": "code",
   "execution_count": 5,
   "id": "62a87ec4",
   "metadata": {},
   "outputs": [
    {
     "name": "stdout",
     "output_type": "stream",
     "text": [
      "['title' 'text' 'subject' 'date' 'label']\n",
      "['title' 'text' 'subject' 'date' 'label']\n"
     ]
    }
   ],
   "source": [
    "print(fake.columns.values)\n",
    "print(true.columns.values)"
   ]
  },
  {
   "cell_type": "markdown",
   "id": "36f610ec",
   "metadata": {},
   "source": [
    "Mostrem les 5 primeres linies de les nostres bases de dades"
   ]
  },
  {
   "cell_type": "code",
   "execution_count": 6,
   "id": "fd7b7acf",
   "metadata": {},
   "outputs": [
    {
     "data": {
      "text/html": [
       "<div>\n",
       "<style scoped>\n",
       "    .dataframe tbody tr th:only-of-type {\n",
       "        vertical-align: middle;\n",
       "    }\n",
       "\n",
       "    .dataframe tbody tr th {\n",
       "        vertical-align: top;\n",
       "    }\n",
       "\n",
       "    .dataframe thead th {\n",
       "        text-align: right;\n",
       "    }\n",
       "</style>\n",
       "<table border=\"1\" class=\"dataframe\">\n",
       "  <thead>\n",
       "    <tr style=\"text-align: right;\">\n",
       "      <th></th>\n",
       "      <th>title</th>\n",
       "      <th>text</th>\n",
       "      <th>subject</th>\n",
       "      <th>date</th>\n",
       "      <th>label</th>\n",
       "    </tr>\n",
       "  </thead>\n",
       "  <tbody>\n",
       "    <tr>\n",
       "      <th>0</th>\n",
       "      <td>As U.S. budget fight looms, Republicans flip t...</td>\n",
       "      <td>WASHINGTON (Reuters) - The head of a conservat...</td>\n",
       "      <td>politicsNews</td>\n",
       "      <td>December 31, 2017</td>\n",
       "      <td>True</td>\n",
       "    </tr>\n",
       "    <tr>\n",
       "      <th>1</th>\n",
       "      <td>U.S. military to accept transgender recruits o...</td>\n",
       "      <td>WASHINGTON (Reuters) - Transgender people will...</td>\n",
       "      <td>politicsNews</td>\n",
       "      <td>December 29, 2017</td>\n",
       "      <td>True</td>\n",
       "    </tr>\n",
       "    <tr>\n",
       "      <th>2</th>\n",
       "      <td>Senior U.S. Republican senator: 'Let Mr. Muell...</td>\n",
       "      <td>WASHINGTON (Reuters) - The special counsel inv...</td>\n",
       "      <td>politicsNews</td>\n",
       "      <td>December 31, 2017</td>\n",
       "      <td>True</td>\n",
       "    </tr>\n",
       "    <tr>\n",
       "      <th>3</th>\n",
       "      <td>FBI Russia probe helped by Australian diplomat...</td>\n",
       "      <td>WASHINGTON (Reuters) - Trump campaign adviser ...</td>\n",
       "      <td>politicsNews</td>\n",
       "      <td>December 30, 2017</td>\n",
       "      <td>True</td>\n",
       "    </tr>\n",
       "    <tr>\n",
       "      <th>4</th>\n",
       "      <td>Trump wants Postal Service to charge 'much mor...</td>\n",
       "      <td>SEATTLE/WASHINGTON (Reuters) - President Donal...</td>\n",
       "      <td>politicsNews</td>\n",
       "      <td>December 29, 2017</td>\n",
       "      <td>True</td>\n",
       "    </tr>\n",
       "  </tbody>\n",
       "</table>\n",
       "</div>"
      ],
      "text/plain": [
       "                                               title  \\\n",
       "0  As U.S. budget fight looms, Republicans flip t...   \n",
       "1  U.S. military to accept transgender recruits o...   \n",
       "2  Senior U.S. Republican senator: 'Let Mr. Muell...   \n",
       "3  FBI Russia probe helped by Australian diplomat...   \n",
       "4  Trump wants Postal Service to charge 'much mor...   \n",
       "\n",
       "                                                text       subject  \\\n",
       "0  WASHINGTON (Reuters) - The head of a conservat...  politicsNews   \n",
       "1  WASHINGTON (Reuters) - Transgender people will...  politicsNews   \n",
       "2  WASHINGTON (Reuters) - The special counsel inv...  politicsNews   \n",
       "3  WASHINGTON (Reuters) - Trump campaign adviser ...  politicsNews   \n",
       "4  SEATTLE/WASHINGTON (Reuters) - President Donal...  politicsNews   \n",
       "\n",
       "                 date label  \n",
       "0  December 31, 2017   True  \n",
       "1  December 29, 2017   True  \n",
       "2  December 31, 2017   True  \n",
       "3  December 30, 2017   True  \n",
       "4  December 29, 2017   True  "
      ]
     },
     "execution_count": 6,
     "metadata": {},
     "output_type": "execute_result"
    }
   ],
   "source": [
    "true.head()"
   ]
  },
  {
   "cell_type": "code",
   "execution_count": 7,
   "id": "be121bd2",
   "metadata": {},
   "outputs": [
    {
     "data": {
      "text/html": [
       "<div>\n",
       "<style scoped>\n",
       "    .dataframe tbody tr th:only-of-type {\n",
       "        vertical-align: middle;\n",
       "    }\n",
       "\n",
       "    .dataframe tbody tr th {\n",
       "        vertical-align: top;\n",
       "    }\n",
       "\n",
       "    .dataframe thead th {\n",
       "        text-align: right;\n",
       "    }\n",
       "</style>\n",
       "<table border=\"1\" class=\"dataframe\">\n",
       "  <thead>\n",
       "    <tr style=\"text-align: right;\">\n",
       "      <th></th>\n",
       "      <th>title</th>\n",
       "      <th>text</th>\n",
       "      <th>subject</th>\n",
       "      <th>date</th>\n",
       "      <th>label</th>\n",
       "    </tr>\n",
       "  </thead>\n",
       "  <tbody>\n",
       "    <tr>\n",
       "      <th>0</th>\n",
       "      <td>Donald Trump Sends Out Embarrassing New Year’...</td>\n",
       "      <td>Donald Trump just couldn t wish all Americans ...</td>\n",
       "      <td>News</td>\n",
       "      <td>December 31, 2017</td>\n",
       "      <td>Fake</td>\n",
       "    </tr>\n",
       "    <tr>\n",
       "      <th>1</th>\n",
       "      <td>Drunk Bragging Trump Staffer Started Russian ...</td>\n",
       "      <td>House Intelligence Committee Chairman Devin Nu...</td>\n",
       "      <td>News</td>\n",
       "      <td>December 31, 2017</td>\n",
       "      <td>Fake</td>\n",
       "    </tr>\n",
       "    <tr>\n",
       "      <th>2</th>\n",
       "      <td>Sheriff David Clarke Becomes An Internet Joke...</td>\n",
       "      <td>On Friday, it was revealed that former Milwauk...</td>\n",
       "      <td>News</td>\n",
       "      <td>December 30, 2017</td>\n",
       "      <td>Fake</td>\n",
       "    </tr>\n",
       "    <tr>\n",
       "      <th>3</th>\n",
       "      <td>Trump Is So Obsessed He Even Has Obama’s Name...</td>\n",
       "      <td>On Christmas day, Donald Trump announced that ...</td>\n",
       "      <td>News</td>\n",
       "      <td>December 29, 2017</td>\n",
       "      <td>Fake</td>\n",
       "    </tr>\n",
       "    <tr>\n",
       "      <th>4</th>\n",
       "      <td>Pope Francis Just Called Out Donald Trump Dur...</td>\n",
       "      <td>Pope Francis used his annual Christmas Day mes...</td>\n",
       "      <td>News</td>\n",
       "      <td>December 25, 2017</td>\n",
       "      <td>Fake</td>\n",
       "    </tr>\n",
       "  </tbody>\n",
       "</table>\n",
       "</div>"
      ],
      "text/plain": [
       "                                               title  \\\n",
       "0   Donald Trump Sends Out Embarrassing New Year’...   \n",
       "1   Drunk Bragging Trump Staffer Started Russian ...   \n",
       "2   Sheriff David Clarke Becomes An Internet Joke...   \n",
       "3   Trump Is So Obsessed He Even Has Obama’s Name...   \n",
       "4   Pope Francis Just Called Out Donald Trump Dur...   \n",
       "\n",
       "                                                text subject  \\\n",
       "0  Donald Trump just couldn t wish all Americans ...    News   \n",
       "1  House Intelligence Committee Chairman Devin Nu...    News   \n",
       "2  On Friday, it was revealed that former Milwauk...    News   \n",
       "3  On Christmas day, Donald Trump announced that ...    News   \n",
       "4  Pope Francis used his annual Christmas Day mes...    News   \n",
       "\n",
       "                date label  \n",
       "0  December 31, 2017  Fake  \n",
       "1  December 31, 2017  Fake  \n",
       "2  December 30, 2017  Fake  \n",
       "3  December 29, 2017  Fake  \n",
       "4  December 25, 2017  Fake  "
      ]
     },
     "execution_count": 7,
     "metadata": {},
     "output_type": "execute_result"
    }
   ],
   "source": [
    "fake.head()"
   ]
  },
  {
   "cell_type": "markdown",
   "id": "cccdb57e",
   "metadata": {},
   "source": [
    "Juntem les dos bases de dades en una de sola"
   ]
  },
  {
   "cell_type": "code",
   "execution_count": 8,
   "id": "b2c7929a",
   "metadata": {},
   "outputs": [
    {
     "data": {
      "text/html": [
       "<div>\n",
       "<style scoped>\n",
       "    .dataframe tbody tr th:only-of-type {\n",
       "        vertical-align: middle;\n",
       "    }\n",
       "\n",
       "    .dataframe tbody tr th {\n",
       "        vertical-align: top;\n",
       "    }\n",
       "\n",
       "    .dataframe thead th {\n",
       "        text-align: right;\n",
       "    }\n",
       "</style>\n",
       "<table border=\"1\" class=\"dataframe\">\n",
       "  <thead>\n",
       "    <tr style=\"text-align: right;\">\n",
       "      <th></th>\n",
       "      <th>title</th>\n",
       "      <th>text</th>\n",
       "      <th>subject</th>\n",
       "      <th>date</th>\n",
       "      <th>label</th>\n",
       "    </tr>\n",
       "  </thead>\n",
       "  <tbody>\n",
       "    <tr>\n",
       "      <th>0</th>\n",
       "      <td>Donald Trump Sends Out Embarrassing New Year’...</td>\n",
       "      <td>Donald Trump just couldn t wish all Americans ...</td>\n",
       "      <td>News</td>\n",
       "      <td>December 31, 2017</td>\n",
       "      <td>Fake</td>\n",
       "    </tr>\n",
       "    <tr>\n",
       "      <th>1</th>\n",
       "      <td>Drunk Bragging Trump Staffer Started Russian ...</td>\n",
       "      <td>House Intelligence Committee Chairman Devin Nu...</td>\n",
       "      <td>News</td>\n",
       "      <td>December 31, 2017</td>\n",
       "      <td>Fake</td>\n",
       "    </tr>\n",
       "    <tr>\n",
       "      <th>2</th>\n",
       "      <td>Sheriff David Clarke Becomes An Internet Joke...</td>\n",
       "      <td>On Friday, it was revealed that former Milwauk...</td>\n",
       "      <td>News</td>\n",
       "      <td>December 30, 2017</td>\n",
       "      <td>Fake</td>\n",
       "    </tr>\n",
       "    <tr>\n",
       "      <th>3</th>\n",
       "      <td>Trump Is So Obsessed He Even Has Obama’s Name...</td>\n",
       "      <td>On Christmas day, Donald Trump announced that ...</td>\n",
       "      <td>News</td>\n",
       "      <td>December 29, 2017</td>\n",
       "      <td>Fake</td>\n",
       "    </tr>\n",
       "    <tr>\n",
       "      <th>4</th>\n",
       "      <td>Pope Francis Just Called Out Donald Trump Dur...</td>\n",
       "      <td>Pope Francis used his annual Christmas Day mes...</td>\n",
       "      <td>News</td>\n",
       "      <td>December 25, 2017</td>\n",
       "      <td>Fake</td>\n",
       "    </tr>\n",
       "  </tbody>\n",
       "</table>\n",
       "</div>"
      ],
      "text/plain": [
       "                                               title  \\\n",
       "0   Donald Trump Sends Out Embarrassing New Year’...   \n",
       "1   Drunk Bragging Trump Staffer Started Russian ...   \n",
       "2   Sheriff David Clarke Becomes An Internet Joke...   \n",
       "3   Trump Is So Obsessed He Even Has Obama’s Name...   \n",
       "4   Pope Francis Just Called Out Donald Trump Dur...   \n",
       "\n",
       "                                                text subject  \\\n",
       "0  Donald Trump just couldn t wish all Americans ...    News   \n",
       "1  House Intelligence Committee Chairman Devin Nu...    News   \n",
       "2  On Friday, it was revealed that former Milwauk...    News   \n",
       "3  On Christmas day, Donald Trump announced that ...    News   \n",
       "4  Pope Francis used his annual Christmas Day mes...    News   \n",
       "\n",
       "                date label  \n",
       "0  December 31, 2017  Fake  \n",
       "1  December 31, 2017  Fake  \n",
       "2  December 30, 2017  Fake  \n",
       "3  December 29, 2017  Fake  \n",
       "4  December 25, 2017  Fake  "
      ]
     },
     "execution_count": 8,
     "metadata": {},
     "output_type": "execute_result"
    }
   ],
   "source": [
    "df=pd.concat([fake,true],axis=0)\n",
    "df.head()"
   ]
  },
  {
   "cell_type": "markdown",
   "id": "cb426204",
   "metadata": {},
   "source": [
    "Mostrem la informació de la base de dades"
   ]
  },
  {
   "cell_type": "code",
   "execution_count": 9,
   "id": "15a30224",
   "metadata": {},
   "outputs": [
    {
     "name": "stdout",
     "output_type": "stream",
     "text": [
      "<class 'pandas.core.frame.DataFrame'>\n",
      "Int64Index: 44898 entries, 0 to 21416\n",
      "Data columns (total 5 columns):\n",
      " #   Column   Non-Null Count  Dtype \n",
      "---  ------   --------------  ----- \n",
      " 0   title    44898 non-null  object\n",
      " 1   text     44898 non-null  object\n",
      " 2   subject  44898 non-null  object\n",
      " 3   date     44898 non-null  object\n",
      " 4   label    44898 non-null  object\n",
      "dtypes: object(5)\n",
      "memory usage: 2.1+ MB\n"
     ]
    }
   ],
   "source": [
    "df.info()"
   ]
  },
  {
   "cell_type": "markdown",
   "id": "7565c73d",
   "metadata": {},
   "source": [
    "En aquest cas ens interesen els atributs text i label alhora de fer el classificador"
   ]
  },
  {
   "cell_type": "code",
   "execution_count": 10,
   "id": "eb019f7b",
   "metadata": {},
   "outputs": [
    {
     "data": {
      "text/html": [
       "<div>\n",
       "<style scoped>\n",
       "    .dataframe tbody tr th:only-of-type {\n",
       "        vertical-align: middle;\n",
       "    }\n",
       "\n",
       "    .dataframe tbody tr th {\n",
       "        vertical-align: top;\n",
       "    }\n",
       "\n",
       "    .dataframe thead th {\n",
       "        text-align: right;\n",
       "    }\n",
       "</style>\n",
       "<table border=\"1\" class=\"dataframe\">\n",
       "  <thead>\n",
       "    <tr style=\"text-align: right;\">\n",
       "      <th></th>\n",
       "      <th>text</th>\n",
       "      <th>label</th>\n",
       "    </tr>\n",
       "  </thead>\n",
       "  <tbody>\n",
       "    <tr>\n",
       "      <th>0</th>\n",
       "      <td>Donald Trump just couldn t wish all Americans ...</td>\n",
       "      <td>Fake</td>\n",
       "    </tr>\n",
       "    <tr>\n",
       "      <th>1</th>\n",
       "      <td>House Intelligence Committee Chairman Devin Nu...</td>\n",
       "      <td>Fake</td>\n",
       "    </tr>\n",
       "    <tr>\n",
       "      <th>2</th>\n",
       "      <td>On Friday, it was revealed that former Milwauk...</td>\n",
       "      <td>Fake</td>\n",
       "    </tr>\n",
       "    <tr>\n",
       "      <th>3</th>\n",
       "      <td>On Christmas day, Donald Trump announced that ...</td>\n",
       "      <td>Fake</td>\n",
       "    </tr>\n",
       "    <tr>\n",
       "      <th>4</th>\n",
       "      <td>Pope Francis used his annual Christmas Day mes...</td>\n",
       "      <td>Fake</td>\n",
       "    </tr>\n",
       "  </tbody>\n",
       "</table>\n",
       "</div>"
      ],
      "text/plain": [
       "                                                text label\n",
       "0  Donald Trump just couldn t wish all Americans ...  Fake\n",
       "1  House Intelligence Committee Chairman Devin Nu...  Fake\n",
       "2  On Friday, it was revealed that former Milwauk...  Fake\n",
       "3  On Christmas day, Donald Trump announced that ...  Fake\n",
       "4  Pope Francis used his annual Christmas Day mes...  Fake"
      ]
     },
     "execution_count": 10,
     "metadata": {},
     "output_type": "execute_result"
    }
   ],
   "source": [
    "df=df.drop(['title','subject','date'], axis=1)\n",
    "df.head()"
   ]
  },
  {
   "cell_type": "code",
   "execution_count": 11,
   "id": "ff10fb46",
   "metadata": {},
   "outputs": [
    {
     "data": {
      "text/plain": [
       "Fake    23481\n",
       "True    21417\n",
       "Name: label, dtype: int64"
      ]
     },
     "execution_count": 11,
     "metadata": {},
     "output_type": "execute_result"
    }
   ],
   "source": [
    "df['label'].value_counts()"
   ]
  },
  {
   "cell_type": "markdown",
   "id": "9ee2f340",
   "metadata": {},
   "source": [
    "Convertim l'atribut label que és un object a int"
   ]
  },
  {
   "cell_type": "code",
   "execution_count": 12,
   "id": "7ed16fbe",
   "metadata": {},
   "outputs": [
    {
     "data": {
      "text/html": [
       "<div>\n",
       "<style scoped>\n",
       "    .dataframe tbody tr th:only-of-type {\n",
       "        vertical-align: middle;\n",
       "    }\n",
       "\n",
       "    .dataframe tbody tr th {\n",
       "        vertical-align: top;\n",
       "    }\n",
       "\n",
       "    .dataframe thead th {\n",
       "        text-align: right;\n",
       "    }\n",
       "</style>\n",
       "<table border=\"1\" class=\"dataframe\">\n",
       "  <thead>\n",
       "    <tr style=\"text-align: right;\">\n",
       "      <th></th>\n",
       "      <th>text</th>\n",
       "      <th>label</th>\n",
       "    </tr>\n",
       "  </thead>\n",
       "  <tbody>\n",
       "    <tr>\n",
       "      <th>0</th>\n",
       "      <td>Donald Trump just couldn t wish all Americans ...</td>\n",
       "      <td>0</td>\n",
       "    </tr>\n",
       "    <tr>\n",
       "      <th>1</th>\n",
       "      <td>House Intelligence Committee Chairman Devin Nu...</td>\n",
       "      <td>0</td>\n",
       "    </tr>\n",
       "    <tr>\n",
       "      <th>2</th>\n",
       "      <td>On Friday, it was revealed that former Milwauk...</td>\n",
       "      <td>0</td>\n",
       "    </tr>\n",
       "    <tr>\n",
       "      <th>3</th>\n",
       "      <td>On Christmas day, Donald Trump announced that ...</td>\n",
       "      <td>0</td>\n",
       "    </tr>\n",
       "    <tr>\n",
       "      <th>4</th>\n",
       "      <td>Pope Francis used his annual Christmas Day mes...</td>\n",
       "      <td>0</td>\n",
       "    </tr>\n",
       "  </tbody>\n",
       "</table>\n",
       "</div>"
      ],
      "text/plain": [
       "                                                text  label\n",
       "0  Donald Trump just couldn t wish all Americans ...      0\n",
       "1  House Intelligence Committee Chairman Devin Nu...      0\n",
       "2  On Friday, it was revealed that former Milwauk...      0\n",
       "3  On Christmas day, Donald Trump announced that ...      0\n",
       "4  Pope Francis used his annual Christmas Day mes...      0"
      ]
     },
     "execution_count": 12,
     "metadata": {},
     "output_type": "execute_result"
    }
   ],
   "source": [
    "df['label']=df['label'].map({'Fake':0,'True':1})\n",
    "df.head()"
   ]
  },
  {
   "cell_type": "markdown",
   "id": "3beb95b1",
   "metadata": {},
   "source": [
    "Apliquem el mètode nlp per tal de transformar un text a un vector de números "
   ]
  },
  {
   "cell_type": "code",
   "execution_count": 13,
   "id": "706f72aa",
   "metadata": {},
   "outputs": [],
   "source": [
    "nlp=spacy.load('en_core_web_lg')"
   ]
  },
  {
   "cell_type": "code",
   "execution_count": null,
   "id": "2e30239d",
   "metadata": {},
   "outputs": [],
   "source": [
    "df['vector']=df['text'].apply(lambda x: nlp(x).vector)\n",
    "df.head"
   ]
  },
  {
   "cell_type": "markdown",
   "id": "35e69547",
   "metadata": {},
   "source": [
    "Separem la base de dades en train i test"
   ]
  },
  {
   "cell_type": "code",
   "execution_count": null,
   "id": "8189aaa9",
   "metadata": {},
   "outputs": [],
   "source": [
    "X_train, X_test, y_train, y_test=train_test_split(df['text_vector'],df['label_encode'],test_sixe=0.3, random_state=10)"
   ]
  }
 ],
 "metadata": {
  "kernelspec": {
   "display_name": "Python 3 (ipykernel)",
   "language": "python",
   "name": "python3"
  },
  "language_info": {
   "codemirror_mode": {
    "name": "ipython",
    "version": 3
   },
   "file_extension": ".py",
   "mimetype": "text/x-python",
   "name": "python",
   "nbconvert_exporter": "python",
   "pygments_lexer": "ipython3",
   "version": "3.9.7"
  }
 },
 "nbformat": 4,
 "nbformat_minor": 5
}
